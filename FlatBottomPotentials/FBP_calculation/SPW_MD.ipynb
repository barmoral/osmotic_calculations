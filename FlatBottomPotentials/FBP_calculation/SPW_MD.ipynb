{
 "cells": [
  {
   "cell_type": "markdown",
   "metadata": {},
   "source": [
    "## Testing that polymerist is importable"
   ]
  },
  {
   "cell_type": "code",
   "execution_count": 1,
   "metadata": {},
   "outputs": [
    {
     "name": "stderr",
     "output_type": "stream",
     "text": [
      "INFO:numexpr.utils:Note: NumExpr detected 16 cores but \"NUMEXPR_MAX_THREADS\" not set, so enforcing safe limit of 8.\n",
      "INFO:numexpr.utils:NumExpr defaulting to 8 threads.\n",
      "INFO:rdkit:Enabling RDKit 2023.09.5 jupyter extensions\n"
     ]
    },
    {
     "data": {
      "application/vnd.jupyter.widget-view+json": {
       "model_id": "f73748e5e8eb43a88352e76d1f7b260e",
       "version_major": 2,
       "version_minor": 0
      },
      "text/plain": []
     },
     "metadata": {},
     "output_type": "display_data"
    },
    {
     "name": "stderr",
     "output_type": "stream",
     "text": [
      "[14:03:21] WARNING: not removing hydrogen atom with dummy atom neighbors\n",
      "INFO:polymerist.smileslib.functgroups:Loading functional group SMARTS data from LUT\n"
     ]
    }
   ],
   "source": [
    "import logging\n",
    "logging.basicConfig(\n",
    "    level=logging.INFO\n",
    ")\n",
    "\n",
    "import polymerist as ps\n",
    "from polymerist.genutils.importutils import module_hierarchy\n",
    "\n",
    "# print(module_hierarchy(ps))"
   ]
  },
  {
   "cell_type": "code",
   "execution_count": 2,
   "metadata": {},
   "outputs": [],
   "source": [
    "import MDAnalysis as mda\n",
    "\n",
    "import warnings\n",
    "# suppress some MDAnalysis warnings when writing PDB files\n",
    "warnings.filterwarnings('ignore')"
   ]
  },
  {
   "cell_type": "markdown",
   "metadata": {},
   "source": [
    "## Parameterizing PDB system"
   ]
  },
  {
   "cell_type": "markdown",
   "metadata": {},
   "source": [
    "### Initializing paths and working directory"
   ]
  },
  {
   "cell_type": "code",
   "execution_count": 4,
   "metadata": {},
   "outputs": [],
   "source": [
    "import os\n",
    "from pathlib import Path\n",
    "from polymerist.genutils.fileutils.pathutils import assemble_path\n",
    "\n",
    "cwd=os.getcwd()\n",
    "working_dir = Path(cwd+'/SPW_1m') # can change this to wherever your files are\n",
    "# working_dir = Path('/home/bamo6610/Documents/openff-dev/SPW_openMM/SPW_3m/') # can change this to wherever your files are\n",
    "mol_name = 'SPW_3m_JC'\n",
    "\n",
    "pdb_path = assemble_path(working_dir, mol_name, extension='pdb') \n",
    "sdf_path = assemble_path(working_dir, mol_name, extension='sdf') \n",
    "inc_path = assemble_path(working_dir, mol_name, extension='pkl') "
   ]
  },
  {
   "cell_type": "code",
   "execution_count": 5,
   "metadata": {},
   "outputs": [
    {
     "data": {
      "text/plain": [
       "PosixPath('/home/bamo6610/Documents/openff-dev/SPW_openMM/SPW_1m/SPW_3m_JC.sdf')"
      ]
     },
     "execution_count": 5,
     "metadata": {},
     "output_type": "execute_result"
    }
   ],
   "source": [
    "sdf_path"
   ]
  },
  {
   "cell_type": "markdown",
   "metadata": {},
   "source": [
    "### Load Topology from PDB ( no overhead since not using long molecules), check that molecules exist"
   ]
  },
  {
   "cell_type": "code",
   "execution_count": 6,
   "metadata": {},
   "outputs": [],
   "source": [
    "from openff.toolkit import Molecule, Topology, ForceField\n",
    "\n",
    "from polymerist.mdtools.openfftools import topology\n",
    "\n",
    "\n",
    "if sdf_path.exists():\n",
    "    offtop = topology.topology_from_sdf(sdf_path)\n",
    "else:\n",
    "    assert(pdb_path.exists())\n",
    "    offtop = Topology.from_pdb(pdb_path)\n",
    "\n",
    "# mol = next(offtop.molecules)\n",
    "# mol.visualize(backend='nglview')"
   ]
  },
  {
   "cell_type": "markdown",
   "metadata": {},
   "source": [
    "### Parameterize system w/ OpenFF"
   ]
  },
  {
   "cell_type": "code",
   "execution_count": 7,
   "metadata": {},
   "outputs": [
    {
     "name": "stderr",
     "output_type": "stream",
     "text": [
      "INFO:openff.toolkit.typing.engines.smirnoff.parameters:Attempting to up-convert vdW section from 0.3 to 0.4\n",
      "INFO:openff.toolkit.typing.engines.smirnoff.parameters:Successfully up-converted vdW section from 0.3 to 0.4. `method=\"cutoff\"` is now split into `periodic_method=\"cutoff\"` and `nonperiodic_method=\"no-cutoff\"`.\n",
      "INFO:openff.toolkit.typing.engines.smirnoff.parameters:Attempting to up-convert Electrostatics section from 0.3 to 0.4\n",
      "INFO:openff.toolkit.typing.engines.smirnoff.parameters:Successfully up-converted Electrostatics section from 0.3 to 0.4. `method=\"PME\"` is now split into `periodic_potential=\"Ewald3D-ConductingBoundary\"`, `nonperiodic_potential=\"Coulomb\"`, and `exception_potential=\"Coulomb\"`.\n",
      "INFO:polymerist.mdtools.openfftools.topology:Successfully serialized SDF Topology to /home/bamo6610/Documents/openff-dev/SPW_openMM/SPW_3m/SPW_3m_JC.sdf\n"
     ]
    }
   ],
   "source": [
    "import pickle\n",
    "from openff.interchange import Interchange\n",
    "\n",
    "from polymerist.unitutils.interop import openff_to_openmm\n",
    "from polymerist.mdtools.openfftools import boxvectors\n",
    "from polymerist.mdtools.openfftools import TKREGS, FF_PATH_REGISTRY\n",
    "\n",
    "\n",
    "# load interchange from file if already extant, otherwise make a new one and save it\n",
    "if inc_path.exists():\n",
    "    with inc_path.open('rb') as file:\n",
    "        inc  = pickle.load(file)\n",
    "else:\n",
    "    ff = ForceField('openff-2.0.0.offxml', 'tip3p.offxml') # load generic Sage + TIP3P force fields\n",
    "    inc = ff.create_interchange(topology=offtop, toolkit_registry=TKREGS['OpenEye Toolkit']) # convert to interchange for export\n",
    "    inc.box = boxvectors.get_topology_bbox(offtop)\n",
    "\n",
    "    if not sdf_path.exists():\n",
    "        topology.topology_to_sdf(sdf_path, inc.topology)\n",
    "\n",
    "    with inc_path.open('wb') as file:\n",
    "        pickle.dump(inc, file)\n",
    "\n",
    "# extract OpenMM-specific objects to initialize simulations later\n",
    "ommtop = inc.to_openmm_topology()\n",
    "ommsys = inc.to_openmm_system(combine_nonbonded_forces=False, add_constrained_forces=True)\n",
    "ommpos = openff_to_openmm(inc.positions)"
   ]
  },
  {
   "cell_type": "markdown",
   "metadata": {},
   "source": [
    "### Create ion subsystem"
   ]
  },
  {
   "cell_type": "markdown",
   "metadata": {},
   "source": [
    "## Applying constraints - Flat-bottom Potentials"
   ]
  },
  {
   "cell_type": "code",
   "execution_count": 8,
   "metadata": {},
   "outputs": [
    {
     "data": {
      "text/plain": [
       "7"
      ]
     },
     "execution_count": 8,
     "metadata": {},
     "output_type": "execute_result"
    }
   ],
   "source": [
    "from openmm.unit import kilojoule_per_mole, nanometer\n",
    "from openmm import CustomExternalForce\n",
    "\n",
    "k = 4184*(kilojoule_per_mole/nanometer**2)\n",
    "delta_Z = 2.4 * nanometer\n",
    "z_center = 7.2 * nanometer\n",
    "\n",
    "fb_force = CustomExternalForce('0.5*k*(max(0, abs(z-z0)-rbf)^2)')\n",
    "fb_force.addGlobalParameter('k', k)\n",
    "fb_force.addGlobalParameter('rbf', delta_Z)\n",
    "fb_force.addGlobalParameter('z0', z_center)\n",
    "ommsys.addForce(fb_force)"
   ]
  },
  {
   "cell_type": "code",
   "execution_count": 9,
   "metadata": {},
   "outputs": [],
   "source": [
    "from openmm.app.topology import Topology\n",
    "\n",
    "for atom in ommtop.atoms():\n",
    "    res=atom.residue.name\n",
    "    if (res == 'NA') or (res == 'CL'):\n",
    "        fb_force.addParticle(\n",
    "            atom.index,\n",
    "            []# if (res == 'NA') or (res == 'CL') else []\n",
    "        )\n"
   ]
  },
  {
   "cell_type": "markdown",
   "metadata": {},
   "source": [
    "## Creating OpenMM simulations"
   ]
  },
  {
   "cell_type": "markdown",
   "metadata": {},
   "source": [
    "### Defining simulation parameters"
   ]
  },
  {
   "cell_type": "code",
   "execution_count": 10,
   "metadata": {},
   "outputs": [],
   "source": [
    "from polymerist.mdtools.openmmtools.parameters import SimulationParameters, ThermoParameters, IntegratorParameters, ReporterParameters\n",
    "from polymerist.mdtools.openmmtools.thermo import EnsembleFactory\n",
    "\n",
    "from openmm.unit import kelvin, atmosphere, nanosecond, picosecond, femtoseconds\n",
    "\n",
    "\n",
    "all_omm_sims : dict[str, SimulationParameters] = {\n",
    "    'equil_sim' : SimulationParameters(\n",
    "        integ_params=IntegratorParameters(\n",
    "            time_step=2*femtoseconds,\n",
    "            # total_time=100*femtoseconds,\n",
    "            total_time=2*nanosecond,\n",
    "            num_samples=50,\n",
    "        ),\n",
    "        thermo_params=ThermoParameters(\n",
    "            ensemble='NVT',\n",
    "            temperature=300 * kelvin,\n",
    "        ),\n",
    "        reporter_params=ReporterParameters(\n",
    "            traj_ext='dcd',\n",
    "        ),\n",
    "    ),\n",
    "    'prod_sim' : SimulationParameters(\n",
    "        integ_params=IntegratorParameters(\n",
    "            time_step=2*femtoseconds,\n",
    "            total_time=20*nanosecond,\n",
    "            num_samples=250,\n",
    "        ),\n",
    "        thermo_params=ThermoParameters(\n",
    "            ensemble='NVT',\n",
    "            temperature=300 * kelvin,\n",
    "        ),\n",
    "        reporter_params=ReporterParameters(),\n",
    "    ),\n",
    "}    \n",
    "\n",
    "# for path_name, sim_params in all_omm_sims.items():\n",
    "    # sim_params.to_file(assemble_path(working_dir, path_name, postfix='params', extension='json'))"
   ]
  },
  {
   "cell_type": "markdown",
   "metadata": {},
   "source": [
    "### Run the defined simulation in series"
   ]
  },
  {
   "cell_type": "code",
   "execution_count": 11,
   "metadata": {},
   "outputs": [
    {
     "name": "stderr",
     "output_type": "stream",
     "text": [
      "INFO:polymerist.mdtools.openmmtools.execution:Initializing simulation 1/2 (\"equil_sim\")\n",
      "INFO:polymerist.mdtools.openmmtools.thermo:Created LangevinMiddleIntegrator for NVT (Canonical) ensemble\n",
      "WARNING:polymerist.mdtools.openmmtools.preparation:No valid State/State file provided, initializing State as None\n",
      "INFO:polymerist.mdtools.openmmtools.reporters:Prepared DCDReporter which reports to SPW_3m/OpenMM_sims_FBPs/equil_sim/equil_sim_trajectory.dcd\n",
      "INFO:polymerist.mdtools.openmmtools.reporters:Prepared CheckpointReporter which reports to SPW_3m/OpenMM_sims_FBPs/equil_sim/equil_sim_checkpoint.chk\n",
      "INFO:polymerist.mdtools.openmmtools.reporters:Prepared StateReporter which reports to SPW_3m/OpenMM_sims_FBPs/equil_sim/equil_sim_state.xml\n",
      "INFO:polymerist.mdtools.openmmtools.reporters:Prepared StateDataReporter which reports to SPW_3m/OpenMM_sims_FBPs/equil_sim/equil_sim_state_data.csv\n",
      "INFO:polymerist.mdtools.openmmtools.preparation:Setting positions in Context\n",
      "INFO:polymerist.mdtools.openmmtools.execution:Performing energy minimization (initial PE = 25821350763.09983 kJ/mol)\n",
      "INFO:polymerist.mdtools.openmmtools.execution:Energy successfully minimized (final PE = -654088.956809124 kJ/mol)\n",
      "INFO:polymerist.mdtools.openmmtools.execution:Saved energy-minimized Simulation Topology at SPW_3m/OpenMM_sims_FBPs/equil_sim/equil_sim_topology.pdb\n",
      "INFO:polymerist.mdtools.openmmtools.execution:Saved serialized Simulation System at SPW_3m/OpenMM_sims_FBPs/equil_sim/equil_sim_system.xml\n",
      "INFO:polymerist.mdtools.openmmtools.execution:Integrating 2 ns OpenMM Simulation for 1000000 steps\n",
      "INFO:polymerist.mdtools.openmmtools.execution:Simulation integration completed successfully\n",
      "INFO:polymerist.mdtools.openmmtools.execution:\n",
      "INFO:polymerist.mdtools.openmmtools.execution:Initializing simulation 2/2 (\"prod_sim\")\n",
      "INFO:polymerist.mdtools.openmmtools.thermo:Created LangevinMiddleIntegrator for NVT (Canonical) ensemble\n",
      "WARNING:polymerist.mdtools.openmmtools.preparation:No valid State/State file provided, initializing State as None\n",
      "INFO:polymerist.mdtools.openmmtools.reporters:Prepared DCDReporter which reports to SPW_3m/OpenMM_sims_FBPs/prod_sim/prod_sim_trajectory.dcd\n",
      "INFO:polymerist.mdtools.openmmtools.reporters:Prepared CheckpointReporter which reports to SPW_3m/OpenMM_sims_FBPs/prod_sim/prod_sim_checkpoint.chk\n",
      "INFO:polymerist.mdtools.openmmtools.reporters:Prepared StateReporter which reports to SPW_3m/OpenMM_sims_FBPs/prod_sim/prod_sim_state.xml\n",
      "INFO:polymerist.mdtools.openmmtools.reporters:Prepared StateDataReporter which reports to SPW_3m/OpenMM_sims_FBPs/prod_sim/prod_sim_state_data.csv\n",
      "INFO:polymerist.mdtools.openmmtools.preparation:Setting positions in Context\n",
      "INFO:polymerist.mdtools.openmmtools.execution:Performing energy minimization (initial PE = -555530.9851294365 kJ/mol)\n",
      "INFO:polymerist.mdtools.openmmtools.execution:Energy successfully minimized (final PE = -662619.767355999 kJ/mol)\n",
      "INFO:polymerist.mdtools.openmmtools.execution:Saved energy-minimized Simulation Topology at SPW_3m/OpenMM_sims_FBPs/prod_sim/prod_sim_topology.pdb\n",
      "INFO:polymerist.mdtools.openmmtools.execution:Saved serialized Simulation System at SPW_3m/OpenMM_sims_FBPs/prod_sim/prod_sim_system.xml\n",
      "INFO:polymerist.mdtools.openmmtools.execution:Integrating 20 ns OpenMM Simulation for 10000000 steps\n",
      "INFO:polymerist.mdtools.openmmtools.execution:Simulation integration completed successfully\n",
      "INFO:polymerist.mdtools.openmmtools.execution:\n"
     ]
    }
   ],
   "source": [
    "from polymerist.mdtools.openmmtools.execution import run_simulation_schedule\n",
    "\n",
    "\n",
    "omm_sim_dir = Path('SPW_3m/OpenMM_sims_FBPs')\n",
    "omm_sim_dir.mkdir(exist_ok=True)\n",
    "\n",
    "history = run_simulation_schedule(\n",
    "    working_dir=omm_sim_dir,\n",
    "    schedule=all_omm_sims,\n",
    "    init_top=ommtop,\n",
    "    init_sys=ommsys,\n",
    "    init_pos=ommpos,\n",
    "    return_history=True\n",
    ")"
   ]
  },
  {
   "cell_type": "code",
   "execution_count": 12,
   "metadata": {},
   "outputs": [
    {
     "name": "stdout",
     "output_type": "stream",
     "text": [
      "'vdW force'\n",
      "\t'CutoffDistance' : Quantity(value=0.9, unit=nanometer)\n",
      "\t'EnergyFunction' : '4*epsilon*((sigma/r)^12-(sigma/r)^6); sigma=(sigma1+sigma2)/2; epsilon=sqrt(epsilon1*epsilon2); '\n",
      "\t'ForceGroup' : 0\n",
      "\t'Name' : 'vdW force'\n",
      "\t'NonbondedMethod' : 2\n",
      "\t'NumComputedValues' : 0\n",
      "\t'NumEnergyParameterDerivatives' : 0\n",
      "\t'NumExclusions' : 33300\n",
      "\t'NumFunctions' : 0\n",
      "\t'NumGlobalParameters' : 0\n",
      "\t'NumInteractionGroups' : 0\n",
      "\t'NumParticles' : 33676\n",
      "\t'NumPerParticleParameters' : 2\n",
      "\t'NumTabulatedFunctions' : 0\n",
      "\t'SwitchingDistance' : Quantity(value=0.8, unit=nanometer)\n",
      "\t'UseLongRangeCorrection' : True\n",
      "\t'UseSwitchingFunction' : True\n",
      "\t'Type' : 'CustomNonbondedForce'\n",
      "\t2 : 'CutoffPeriodic'\n",
      "'Electrostatics force'\n",
      "\t'CutoffDistance' : Quantity(value=0.9, unit=nanometer)\n",
      "\t'EwaldErrorTolerance' : 0.0001\n",
      "\t'ExceptionsUsePeriodicBoundaryConditions' : False\n",
      "\t'ForceGroup' : 1\n",
      "\t'IncludeDirectSpace' : True\n",
      "\t'LJPMEParameters' : [0.0, 0, 0, 0]\n",
      "\t'Name' : 'Electrostatics force'\n",
      "\t'NonbondedMethod' : 4\n",
      "\t'NumExceptionParameterOffsets' : 0\n",
      "\t'NumExceptions' : 33300\n",
      "\t'NumGlobalParameters' : 0\n",
      "\t'NumParticleParameterOffsets' : 0\n",
      "\t'NumParticles' : 33676\n",
      "\t'PMEParameters' : [Quantity(value=0.0, unit=/nanometer), 0, 0, 0]\n",
      "\t'ReactionFieldDielectric' : 78.3\n",
      "\t'ReciprocalSpaceForceGroup' : -1\n",
      "\t'SwitchingDistance' : Quantity(value=-1.0, unit=nanometer)\n",
      "\t'UseDispersionCorrection' : True\n",
      "\t'UseSwitchingFunction' : False\n",
      "\t'Type' : 'NonbondedForce'\n",
      "\t4 : 'PME'\n",
      "'vdW 1-4 force'\n",
      "\t'EnergyFunction' : '4*epsilon*((sigma/r)^12-(sigma/r)^6)'\n",
      "\t'ForceGroup' : 2\n",
      "\t'Name' : 'vdW 1-4 force'\n",
      "\t'NumBonds' : 0\n",
      "\t'NumEnergyParameterDerivatives' : 0\n",
      "\t'NumGlobalParameters' : 0\n",
      "\t'NumPerBondParameters' : 2\n",
      "\t'Type' : 'CustomBondForce'\n",
      "'Electrostatics 1-4 force'\n",
      "\t'EnergyFunction' : '138.935456*qq/r'\n",
      "\t'ForceGroup' : 3\n",
      "\t'Name' : 'Electrostatics 1-4 force'\n",
      "\t'NumBonds' : 0\n",
      "\t'NumEnergyParameterDerivatives' : 0\n",
      "\t'NumGlobalParameters' : 0\n",
      "\t'NumPerBondParameters' : 1\n",
      "\t'Type' : 'CustomBondForce'\n",
      "'PeriodicTorsionForce'\n",
      "\t'ForceGroup' : 4\n",
      "\t'Name' : 'PeriodicTorsionForce'\n",
      "\t'NumTorsions' : 0\n",
      "\t'Type' : 'PeriodicTorsionForce'\n",
      "'HarmonicAngleForce'\n",
      "\t'ForceGroup' : 5\n",
      "\t'Name' : 'HarmonicAngleForce'\n",
      "\t'NumAngles' : 11100\n",
      "\t'Type' : 'HarmonicAngleForce'\n",
      "'HarmonicBondForce'\n",
      "\t'ForceGroup' : 6\n",
      "\t'Name' : 'HarmonicBondForce'\n",
      "\t'NumBonds' : 22200\n",
      "\t'Type' : 'HarmonicBondForce'\n",
      "'CustomExternalForce'\n",
      "\t'EnergyFunction' : '0.5*k*(max(0, abs(z-z0)-rbf)^2)'\n",
      "\t'ForceGroup' : 7\n",
      "\t'Name' : 'CustomExternalForce'\n",
      "\t'NumGlobalParameters' : 3\n",
      "\t'NumParticles' : 376\n",
      "\t'NumPerParticleParameters' : 0\n",
      "\t'Type' : 'CustomExternalForce'\n"
     ]
    }
   ],
   "source": [
    "from polymerist.mdtools.openmmtools.description import describe_forces\n",
    "\n",
    "sim_post = history['equil_sim']['simulation']\n",
    "desc_str = describe_forces(sim_post.system, as_str=True)\n",
    "print(desc_str)"
   ]
  },
  {
   "cell_type": "code",
   "execution_count": null,
   "metadata": {},
   "outputs": [],
   "source": []
  }
 ],
 "metadata": {
  "kernelspec": {
   "display_name": "polymerist-env",
   "language": "python",
   "name": "python3"
  },
  "language_info": {
   "codemirror_mode": {
    "name": "ipython",
    "version": 3
   },
   "file_extension": ".py",
   "mimetype": "text/x-python",
   "name": "python",
   "nbconvert_exporter": "python",
   "pygments_lexer": "ipython3",
   "version": "3.11.0"
  }
 },
 "nbformat": 4,
 "nbformat_minor": 2
}
